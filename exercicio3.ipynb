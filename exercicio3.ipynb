{
  "nbformat": 4,
  "nbformat_minor": 0,
  "metadata": {
    "colab": {
      "provenance": [],
      "authorship_tag": "ABX9TyNMdH3j32B5SYL40oflv9aE"
    },
    "kernelspec": {
      "name": "python3",
      "display_name": "Python 3"
    },
    "language_info": {
      "name": "python"
    }
  },
  "cells": [
    {
      "cell_type": "code",
      "execution_count": 12,
      "metadata": {
        "colab": {
          "base_uri": "https://localhost:8080/"
        },
        "id": "YsuEx9UcaK8D",
        "outputId": "bcd98382-515a-4053-9d60-cee713a3531a"
      },
      "outputs": [
        {
          "output_type": "stream",
          "name": "stdout",
          "text": [
            "[1, 2, 3, 4, 5, 6, 7, 8, 9, 10, 11, 12, 13, 14, 15, 16, 17, 18, 19, 20, 21, 22, 23, 24, 25, 26, 27, 28, 29, 30]\n",
            "[22174.1664, 24537.6698, 26139.6134, 0.0, 0.0, 26742.6612, 0.0, 42889.2258, 46251.174, 11191.4722, 0.0, 0.0, 3847.4823, 373.7838, 2659.7563, 48924.2448, 18419.2614, 0.0, 0.0, 35240.1826, 43829.1667, 18235.6852, 4355.0662, 13327.1025, 0.0, 0.0, 25681.8318, 1718.1221, 13220.495, 8414.61]\n"
          ]
        }
      ],
      "source": [
        "import json\n",
        "\n",
        "with open('dados.json') as f:\n",
        "    dados = json.load(f)\n",
        "\n",
        "\n",
        "# Cria uma lista vazia para armazenar os valores do campo \"faturamento\"\n",
        "faturamentos_dia = []\n",
        "faturamentos_valor = []\n",
        "\n",
        "# Percorre cada elemento da lista JSON e adiciona o valor do campo \"faturamento\" na lista \"faturamentos\"\n",
        "for elemento1 in dados:\n",
        "    faturamentos_dia.append(elemento1['dia'])\n",
        "\n",
        "for elemento2 in dados:\n",
        "    faturamentos_valor.append(elemento2['valor'])\n",
        "\n",
        "\n",
        "# Imprime a lista de faturamentos\n",
        "print(faturamentos_dia)\n",
        "print(faturamentos_valor)\n",
        "\n"
      ]
    },
    {
      "cell_type": "code",
      "source": [
        "faturamento_diario = dados[:29] #vai puxar todos os dados de 0 ate a posicao 29\n",
        "\n",
        "# Calcula o menor e o maior faturamento diário\n",
        "\n",
        "menor = min(faturamentos_valor)\n",
        "maior= max(faturamentos_valor)\n",
        "\n",
        "\n",
        "# Calcula a média mensal, desconsiderando dias sem faturamento\n",
        "media = sum(faturamentos_valor) / len([d for d in faturamentos_valor if d != 0])\n",
        "\n",
        "# Calcula o número de dias em que o faturamento diário foi superior à média\n",
        "dias_acima_da_media = len([d for d in faturamentos_valor if d > media])\n",
        "\n",
        "print(f\"Menor faturamento diário: R${menor:.2f}\")\n",
        "print(f\"Maior faturamento diário: R${maior:.2f}\")\n",
        "print(f\"Média mensal: R${media:.2f}\")\n",
        "print(f\"Número de dias com faturamento acima da média: {dias_acima_da_media}\")"
      ],
      "metadata": {
        "colab": {
          "base_uri": "https://localhost:8080/"
        },
        "id": "uCjezZZmo0vi",
        "outputId": "2f62e5d5-6a4d-41a7-cc9c-18491679b85e"
      },
      "execution_count": 15,
      "outputs": [
        {
          "output_type": "stream",
          "name": "stdout",
          "text": [
            "Menor faturamento diário: R$0.00\n",
            "Maior faturamento diário: R$48924.24\n",
            "Média mensal: R$20865.37\n",
            "Número de dias com faturamento acima da média: 10\n"
          ]
        }
      ]
    },
    {
      "cell_type": "code",
      "source": [],
      "metadata": {
        "id": "VZjtuc2To04G"
      },
      "execution_count": null,
      "outputs": []
    }
  ]
}